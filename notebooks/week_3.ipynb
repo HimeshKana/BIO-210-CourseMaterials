{
 "cells": [
  {
   "cell_type": "markdown",
   "metadata": {},
   "source": [
    "BIO-210: Applied software engineering for life sciences\n",
    "# Python Introduction III - Numpy 2 and branching operations"
   ]
  },
  {
   "cell_type": "markdown",
   "metadata": {},
   "source": [
    "## A deeper dive into Numpy\n",
    "**Numpy** is a widely used Python library for scientific computing. During the last lesson you already learnt quite a few features of **Numpy**. Today, let's explore more features!"
   ]
  },
  {
   "cell_type": "code",
   "execution_count": 2,
   "metadata": {},
   "outputs": [],
   "source": [
    "import numpy as np"
   ]
  },
  {
   "cell_type": "markdown",
   "metadata": {},
   "source": [
    "### Slicing operations (refresh)"
   ]
  },
  {
   "cell_type": "markdown",
   "metadata": {},
   "source": [
    "Let's review together how to index a multi-dimensional array using slicing"
   ]
  },
  {
   "cell_type": "code",
   "execution_count": null,
   "metadata": {},
   "outputs": [],
   "source": [
    "a = np.arange(1,101).reshape(10,10)\n",
    "\n",
    "print('By default, indexing with colon will return all rows and columns')\n",
    "b = a[:,:]  #[all rows, all columns]\n",
    "print(b)\n",
    "\n",
    "print('We can define the start at the end of indexed rows')\n",
    "b = a[1:3,:]  #[start_idx : end_idx, all columns]\n",
    "print(b)\n",
    "\n",
    "print('or the start at the end of indexed columns')\n",
    "b = a[:,1:3]  #[all rows, start_idx : end_idx]\n",
    "print(b)\n",
    "\n",
    "print('We can also specify the start and the end for both rows and columns')\n",
    "b = a[4:7,1:3]  #[start_idx : end_idx, start_idx : end_idx]\n",
    "print(b)"
   ]
  },
  {
   "cell_type": "markdown",
   "metadata": {},
   "source": [
    "Sometimes, it can be useful to skip entries. This can be achieved by adding another colon (:) and the value that specify how many values you want to skip. Therefore, we can summarize all slicing operations with the following notation [start_idx : end_idx : skip_idx]. "
   ]
  },
  {
   "cell_type": "code",
   "execution_count": null,
   "metadata": {},
   "outputs": [],
   "source": [
    "print('Print every fourth row')\n",
    "b = a[::4,:]\n",
    "print(b)"
   ]
  },
  {
   "cell_type": "markdown",
   "metadata": {},
   "source": [
    "**Exercise 0.** Slice the matrix \"a\" and print all even numbers between 40 (excluded) and 70."
   ]
  },
  {
   "cell_type": "code",
   "execution_count": null,
   "metadata": {},
   "outputs": [],
   "source": [
    "b = a[4:7,1::2]  #[all rows, all columns]\n",
    "print(b)"
   ]
  },
  {
   "cell_type": "markdown",
   "metadata": {},
   "source": [
    "### Basic statistical functions\n",
    "NumPy contains various statistical functions that are used for data analysis. These functions are useful, for example, to find the maximum or the minimum element of a vector. It is also used to compute common statistical operations like standard deviation, variance, etc."
   ]
  },
  {
   "cell_type": "markdown",
   "metadata": {},
   "source": [
    "The functions <code>mean</code> and <code>std</code> are used to caculate the mean and standard deviation of the input data (e.g., of an array). Besides caculating the result for the whole data, they can also be used to caculate it along one of axis."
   ]
  },
  {
   "cell_type": "code",
   "execution_count": null,
   "metadata": {},
   "outputs": [],
   "source": [
    "a = np.array([[1, 2], [3, 4]])\n",
    "\n",
    "print(\"The full matrix:\\n\", a)\n",
    "print(\"The mean of the whole matrix is:\", np.mean(a))\n",
    "print(\"The standard deviation of the whole matrix is:\", np.std(a))\n",
    "print(\"The mean of each column is:\", np.mean(a, axis=0))\n",
    "print(\"The mean of each row is:\", np.mean(a, axis=1))\n",
    "print(\"The standard deviation of each column is:\", np.std(a, axis=0))"
   ]
  },
  {
   "cell_type": "markdown",
   "metadata": {},
   "source": [
    "Now, let's generate a random array drawn from a gaussian distribution N(3, 6.25). The function <code>random.randn</code> samples values from a standard gaussian distribution N(0, 1). Therefore, to get a gaussian distribution distribution N(3, 6.25), we need to multiply the vector by the standard deviation (i.e., sqrt(6.25)) and by adding the mean (i.e., 3)."
   ]
  },
  {
   "cell_type": "code",
   "execution_count": null,
   "metadata": {},
   "outputs": [],
   "source": [
    "a = 3 + 2.5 * np.random.randn(2, 4)"
   ]
  },
  {
   "cell_type": "markdown",
   "metadata": {},
   "source": [
    "**Exercise 1.** Calculate the mean and standard deviation first of the whole matrix <code>a</code> and then along the axis 0 of the matrix <code>a</code>."
   ]
  },
  {
   "cell_type": "code",
   "execution_count": 7,
   "metadata": {},
   "outputs": [
    {
     "name": "stdout",
     "output_type": "stream",
     "text": [
      "[[ 4.29002907 -0.63231583  0.63307483  4.43102626]\n",
      " [ 0.47199587 -0.86121914  0.02670929  4.73810919]]\n",
      "the mean of the matrix a 1.6371761909541789\n",
      "the mean of the matrix a around axis 0 [ 2.38101247 -0.74676749  0.32989206  4.58456772]\n",
      "The mean of the matrix a around axis 1 [2.18045358 1.0938988 ]\n",
      "the standard deviation of matrix 2.2586238533505734\n",
      "The std of matrix axis 0 [1.9090166  0.11445165 0.30318277 0.15354146]\n",
      "The std of matrix axis 1 [2.22606373 2.15803222]\n"
     ]
    }
   ],
   "source": [
    "# Your code here\n",
    "a = 3 + 2.5 * np.random.randn(2, 4)\n",
    "print(a)\n",
    "print(\"the mean of the matrix a\", np.mean(a))\n",
    "print(\"the mean of the matrix a around axis 0\", np.mean(a, axis=0))\n",
    "print(\"The mean of the matrix a around axis 1\", np.mean(a,axis = 1))\n",
    "print(\"the standard deviation of matrix\", np.std(a))\n",
    "print(\"The std of matrix axis 0\", np.std(a, axis=0))\n",
    "print(\"The std of matrix axis 1\", np.std(a, axis=1))"
   ]
  },
  {
   "cell_type": "markdown",
   "metadata": {},
   "source": [
    "Is it close to what you expect? How would you create another matrix <code>a</code>, in which the mean and the standard deviation are closer to the expected ones? "
   ]
  },
  {
   "cell_type": "code",
   "execution_count": null,
   "metadata": {},
   "outputs": [],
   "source": [
    "# Your code here\n"
   ]
  },
  {
   "cell_type": "markdown",
   "metadata": {},
   "source": [
    "**Exercise 2.** Besides <code>mean</code> and <code>std</code>, **Numpy** also offers the functions <code>min</code>, <code>max</code>, <code>median</code>, <code>argmin</code>, <code>argmax</code> to caculate the minimum, maximum and median values, index of the minimum and index of the maximum of the array. Apply these functions to the matrix <code>a</code> and along its axis 0 (think of it as coordinates of your array, with axis 0 along rows and axis 1 along columns). Take a better look at the example above to help you understand the importance of this parameter! If you still feel confused check out [this article](https://www.sharpsightlabs.com/blog/numpy-axes-explained/#numpy-axes-quick-explanation)."
   ]
  },
  {
   "cell_type": "code",
   "execution_count": 11,
   "metadata": {},
   "outputs": [
    {
     "name": "stdout",
     "output_type": "stream",
     "text": [
      "[[ 5.15682241  8.3980997  10.87261743]\n",
      " [ 9.54077465 10.26787354  8.01260633]]\n",
      "the maximum number of this matrix 10.872617433781269\n",
      "the minimum number of this matrix 5.156822407597783\n",
      "The maximum along the column are [10.87261743 10.26787354]\n",
      "The minimum along the column are [5.15682241 8.01260633]\n",
      "The maximum along the column are [ 9.54077465 10.26787354 10.87261743]\n",
      "The minimum along the column are [5.15682241 8.3980997  8.01260633]\n",
      "the argmax number of this matrix 2\n",
      "the argmin number of this matrix 0\n",
      "The argmax along the column are [2 1]\n",
      "The argmin along the column are [0 2]\n",
      "The armax along the column are [1 1 0]\n",
      "The argmin along the column are [0 0 1]\n"
     ]
    }
   ],
   "source": [
    "# Your code here\n",
    "a = 10 + 2.5 * np.random.randn(2, 3)\n",
    "print(a)\n",
    "print(\"the maximum number of this matrix\", np.max(a))\n",
    "print(\"the minimum number of this matrix\", np.min(a))\n",
    "print(\"The maximum along the column are\", np.max(a, axis = 1))\n",
    "print(\"The minimum along the column are\", np.min(a, axis = 1))\n",
    "print(\"The maximum along the column are\", np.max(a, axis = 0))\n",
    "print(\"The minimum along the column are\", np.min(a, axis = 0))\n",
    "print(\"the argmax number of this matrix\", np.argmax(a))\n",
    "print(\"the argmin number of this matrix\", np.argmin(a))\n",
    "print(\"The argmax along the column are\", np.argmax(a, axis = 1))\n",
    "print(\"The argmin along the column are\", np.argmin(a, axis = 1))\n",
    "print(\"The armax along the column are\", np.argmax(a, axis = 0))\n",
    "print(\"The argmin along the column are\", np.argmin(a, axis = 0))\n",
    "\n",
    "\n"
   ]
  },
  {
   "cell_type": "markdown",
   "metadata": {},
   "source": [
    "**Numpy** also supports non-standard numbers, such as **np.inf**, which represents infinity, and **np.nan**, which represents \"not-a-number\". These can be the results of operations such as division by 0:"
   ]
  },
  {
   "cell_type": "code",
   "execution_count": 12,
   "metadata": {},
   "outputs": [
    {
     "name": "stdout",
     "output_type": "stream",
     "text": [
      "Dividing by 0 can generate np.nan or np.inf (also negative) as a result: [ nan  inf -inf]\n"
     ]
    },
    {
     "name": "stderr",
     "output_type": "stream",
     "text": [
      "C:\\Users\\himes\\AppData\\Local\\Temp\\ipykernel_20224\\972857553.py:1: RuntimeWarning: divide by zero encountered in divide\n",
      "  a = np.array([0, 1, -4]) / 0\n",
      "C:\\Users\\himes\\AppData\\Local\\Temp\\ipykernel_20224\\972857553.py:1: RuntimeWarning: invalid value encountered in divide\n",
      "  a = np.array([0, 1, -4]) / 0\n"
     ]
    }
   ],
   "source": [
    "a = np.array([0, 1, -4]) / 0\n",
    "print(\"Dividing by 0 can generate np.nan or np.inf (also negative) as a result:\", a)"
   ]
  },
  {
   "cell_type": "markdown",
   "metadata": {},
   "source": [
    "Standard operations, when applied to data containing np.nan, will also return **np.nan**:"
   ]
  },
  {
   "cell_type": "code",
   "execution_count": 13,
   "metadata": {},
   "outputs": [
    {
     "name": "stdout",
     "output_type": "stream",
     "text": [
      "The mean of a vector with a NaN is:  nan\n"
     ]
    }
   ],
   "source": [
    "a = [0, np.nan, 1]\n",
    "print(\"The mean of a vector with a NaN is: \", np.mean(a))"
   ]
  },
  {
   "cell_type": "markdown",
   "metadata": {},
   "source": [
    "However, **Numpy** offers functions that can ignore NaNs, such as <code>nanmax</code>, <code>nanmin</code> and <code>nanmean</code> . Let's create an array including NaN values and test these functions."
   ]
  },
  {
   "cell_type": "markdown",
   "metadata": {},
   "source": [
    "**Exercise 3.** Apply the following functions of numpy to the array a: <code>amax</code>, <code>amin</code> and <code>nanmax</code>, <code>nanmin</code>."
   ]
  },
  {
   "cell_type": "code",
   "execution_count": 14,
   "metadata": {},
   "outputs": [
    {
     "name": "stdout",
     "output_type": "stream",
     "text": [
      "The value of the mean is nan  nan  inf  1.0  inf\n"
     ]
    }
   ],
   "source": [
    "a = np.array([1, 2, np.nan, np.inf])\n",
    "# Your code here\n",
    "print(\"The value of the mean is\", np.amax(a),\"\", np.amin(a), \"\", np.nanmax(a),\"\" ,np.nanmin(a), \"\", np.nanmean(a))"
   ]
  },
  {
   "cell_type": "markdown",
   "metadata": {},
   "source": [
    "**Exercise 4.** We want to write some code which, given a point, finds the closest one in a set of other points. Such a function is important, for example, in information theory, as it is the basic operation of the vector quantization (VQ) algorithm. In the simple, two-dimensional case shown below, the values refer to the weight and height of an athlete. The set of weights and heights represents different classes of athletes. We want to assign the athlete to the class it is closest to. Finding the closest point requires calculating the distance between the athlete's parameters and each of the classes of athletes.\n",
    "Now, let's define an athlete with [weight, height] = [111.0, 188.0], and a list of 4 classes [[102.0, 203.0], [132.0, 193.0], [45.0, 155.0], [57.0, 173.0]]. In the next cell, write some code which returns the index of the class of athletes that the athlete should be assigned to."
   ]
  },
  {
   "cell_type": "code",
   "execution_count": 29,
   "metadata": {},
   "outputs": [
    {
     "name": "stdout",
     "output_type": "stream",
     "text": [
      "102.0\n"
     ]
    },
    {
     "ename": "AttributeError",
     "evalue": "'numpy.ndarray' object has no attribute 'index'",
     "output_type": "error",
     "traceback": [
      "\u001b[1;31m---------------------------------------------------------------------------\u001b[0m",
      "\u001b[1;31mAttributeError\u001b[0m                            Traceback (most recent call last)",
      "Cell \u001b[1;32mIn [29], line 14\u001b[0m\n\u001b[0;32m     12\u001b[0m  proche[\u001b[39m0\u001b[39m] \u001b[39m=\u001b[39m \u001b[39mabs\u001b[39m(el[\u001b[39m0\u001b[39m]\u001b[39m-\u001b[39mThe[\u001b[39m0\u001b[39m])\n\u001b[0;32m     13\u001b[0m  result\u001b[39m=\u001b[39mel[\u001b[39m0\u001b[39m]\n\u001b[1;32m---> 14\u001b[0m  index1\u001b[39m=\u001b[39m athletes\u001b[39m.\u001b[39mindex(el) \n\u001b[0;32m     15\u001b[0m \u001b[39mprint\u001b[39m(el[\u001b[39m1\u001b[39m])\n\u001b[0;32m     16\u001b[0m \u001b[39mif\u001b[39;00m proche[\u001b[39m1\u001b[39m]\u001b[39m>\u001b[39m\u001b[39m=\u001b[39m\u001b[39mabs\u001b[39m(el[\u001b[39m1\u001b[39m]\u001b[39m-\u001b[39mThe[\u001b[39m1\u001b[39m]):\n",
      "\u001b[1;31mAttributeError\u001b[0m: 'numpy.ndarray' object has no attribute 'index'"
     ]
    }
   ],
   "source": [
    "# Your code here\n",
    "from cmath import inf\n",
    "\n",
    "\n",
    "athletes = np.array([[102.0, 203.0], [132.0, 193.0], [45.0, 155.0], [57.0, 173.0]])\n",
    "The = np.array([110.0,188.0])\n",
    "\n",
    "proche=[inf, inf]\n",
    "for el in athletes:\n",
    "    print(el[0])\n",
    "    if proche[0]>=abs(el[0]-The[0]):\n",
    "     proche[0] = abs(el[0]-The[0])\n",
    "     result=el[0]\n",
    "     index1= athletes.index(el) \n",
    "    print(el[1])\n",
    "    if proche[1]>=abs(el[1]-The[1]):\n",
    "     proche[1] = abs(el[1]-The[1])\n",
    "     result2=el[1]\n",
    "     index2= athletes.index(el) \n",
    "print(result, result2,\"\", athletes[index1][index2])\n",
    "   \n"
   ]
  },
  {
   "cell_type": "markdown",
   "metadata": {},
   "source": [
    "### Linear algebra examples\n",
    "Linear algebra is at the core of Data Science. That's why **NumPy** offers array-like data structures & dedicated operations and methods. Let's first have a look together at the <code>dot</code> function as an example, which computes the matrix multiplication between two vectors or matrices."
   ]
  },
  {
   "cell_type": "code",
   "execution_count": 32,
   "metadata": {},
   "outputs": [
    {
     "name": "stdout",
     "output_type": "stream",
     "text": [
      "a @ b: \n",
      " [[ 36 -19  11]\n",
      " [ 14 -24 -20]\n",
      " [ 36 -20  16]]\n",
      "a @ b: \n",
      " [[ 36 -19  11]\n",
      " [ 14 -24 -20]\n",
      " [ 36 -20  16]]\n"
     ]
    }
   ],
   "source": [
    "a = np.array([[1,2,3],[2,0,3],[7,-5,1]])\n",
    "b = np.array([[3,-1,5],[-2,-6,4], [0,4,4]])\n",
    "print('a @ b: \\n', np.dot(b,a))\n",
    "print('a @ b: \\n', b.dot(a))"
   ]
  },
  {
   "cell_type": "markdown",
   "metadata": {},
   "source": [
    "**Exercise 5.** Define two random matrices, a and b, of sizes (4x2). Transpose b and save in c the matrix product between a and b transposed."
   ]
  },
  {
   "cell_type": "code",
   "execution_count": 37,
   "metadata": {},
   "outputs": [
    {
     "name": "stdout",
     "output_type": "stream",
     "text": [
      "[[0.27553879 0.24324438]\n",
      " [0.9949545  0.15818415]\n",
      " [0.583281   0.97727141]\n",
      " [0.11604473 0.94235866]]  [[8.52850117e-04 3.74447418e-01]\n",
      " [9.32978326e-01 1.92654505e-01]\n",
      " [9.62119586e-01 7.64698189e-01]\n",
      " [3.03515765e-01 9.58838356e-01]]  [[8.52850117e-04 9.32978326e-01 9.62119586e-01 3.03515765e-01]\n",
      " [3.74447418e-01 1.92654505e-01 7.64698189e-01 9.58838356e-01]]\n",
      "A times C [[0.09131722 0.30393384 0.4511098  0.31686241]\n",
      " [0.06008019 0.95874587 1.07822835 0.45365741]\n",
      " [0.36643421 0.73246427 1.30850375 1.11408029]\n",
      " [0.35296274 0.28981686 0.83226886 0.93879103]]\n"
     ]
    }
   ],
   "source": [
    "# Your code here\n",
    "a= np.random.rand(4,2)\n",
    "b = np.random.rand(4,2)\n",
    "c=np.transpose(b)\n",
    "d=a.dot(c)\n",
    "print(a, \"\", b, \"\", c)\n",
    "print(\"A times C\", a.dot(c))\n"
   ]
  },
  {
   "cell_type": "markdown",
   "metadata": {},
   "source": [
    "**Exercise 6.** Can the c matrix be inverted? Check it out by computing its determinant and, if it exists, get the inverse matrix."
   ]
  },
  {
   "cell_type": "code",
   "execution_count": 3,
   "metadata": {},
   "outputs": [
    {
     "name": "stdout",
     "output_type": "stream",
     "text": [
      "[[ 0  1  2  3]\n",
      " [ 4  5  6  7]\n",
      " [ 8  9 10 11]\n",
      " [12 13 14 15]]\n",
      "Le determinant vaut 0\n"
     ]
    }
   ],
   "source": [
    "# Your code here\n",
    "c= np.arange(0,16).reshape(4,4)\n",
    "print(c)\n",
    "\n",
    "if abs(np.linalg.det(c))>0:\n",
    "    print(\"L'inverse vaut\",np.linalg.inv(c))\n",
    "else:\n",
    "    print(\"Le determinant vaut 0\")"
   ]
  },
  {
   "cell_type": "markdown",
   "metadata": {},
   "source": [
    "**Exercise 7.** Using the inverse matrix and the matrix-multiplication operator, you can now solve a matrix-vector equation. Let's now find the vector x that solve the following equation Ax = b. Given A equal to ([2,1,-2],[3,0,1],[1,1,-1]]) and b equal to ([-3,5,-2]), compute x."
   ]
  },
  {
   "cell_type": "code",
   "execution_count": 8,
   "metadata": {},
   "outputs": [
    {
     "name": "stdout",
     "output_type": "stream",
     "text": [
      "[[ 2  1 -2]\n",
      " [ 3  0  1]\n",
      " [ 1  1 -1]] [-3  5 -2]\n",
      "L'inverse vaut [[ 2.50000000e-01  2.50000000e-01 -2.50000000e-01]\n",
      " [-1.00000000e+00  1.11022302e-16  2.00000000e+00]\n",
      " [-7.50000000e-01  2.50000000e-01  7.50000000e-01]]\n",
      "X vaut : [ 1. -1.  2.]\n"
     ]
    }
   ],
   "source": [
    "# Your code here\n",
    "A = np.array([[2,1,-2],[3,0,1],[1,1,-1]])\n",
    "B= np.array([-3,5,-2])\n",
    "print(A, B)\n",
    "\n",
    "if abs(np.linalg.det(A))>0:\n",
    "    print(\"L'inverse vaut\",np.linalg.inv(A))\n",
    "else:\n",
    "    print(\"Le determinant vaut 0\")\n",
    "\n",
    "print(\"X vaut :\",np.linalg.inv(A).dot(B))\n"
   ]
  },
  {
   "cell_type": "markdown",
   "metadata": {},
   "source": [
    "**Exercise 8.** Computing the inverse could be very time-consuming. Therefore, it is always better to take advantage of the highly optimized **NumPy** functions to solve linear equations. Try to solve the same exercise as before but using <code>linalg.solve</code> to compute x."
   ]
  },
  {
   "cell_type": "code",
   "execution_count": 9,
   "metadata": {},
   "outputs": [
    {
     "name": "stdout",
     "output_type": "stream",
     "text": [
      "[[ 2  1 -2]\n",
      " [ 3  0  1]\n",
      " [ 1  1 -1]] [-3  5 -2]\n",
      "[ 1. -1.  2.]\n"
     ]
    }
   ],
   "source": [
    "# Your code here\n",
    "A = np.array([[2,1,-2],[3,0,1],[1,1,-1]])\n",
    "B= np.array([-3,5,-2])\n",
    "print(A, B)\n",
    "X = np.linalg.solve(A,B)\n",
    "print(X)"
   ]
  },
  {
   "cell_type": "markdown",
   "metadata": {},
   "source": [
    "## Branching operation"
   ]
  },
  {
   "cell_type": "markdown",
   "metadata": {},
   "source": [
    "### *if*, *else* and *elif*\n",
    "In Python, similarly to all of the C-like languages, branching operations are implemented using the **if** keyword. If the expression is true, the statement following it will be executed. Otherwise, it is possible to specify the statement to execute in case of the expression is false, by using the *else* keyword. Both **if** and **else** need a colon (:) at the line, as in the following example:"
   ]
  },
  {
   "cell_type": "code",
   "execution_count": null,
   "metadata": {},
   "outputs": [],
   "source": [
    "r = np.random.randn()\n",
    "if r > 0:\n",
    "    print(\"The random number is positive\")\n",
    "else:\n",
    "    print(\"The random number is negative\")"
   ]
  },
  {
   "cell_type": "markdown",
   "metadata": {},
   "source": [
    "In case you want to create multiple branches by applying more than one condition, you can use the keyword **elif** as in the following example:"
   ]
  },
  {
   "cell_type": "code",
   "execution_count": 11,
   "metadata": {},
   "outputs": [
    {
     "name": "stdout",
     "output_type": "stream",
     "text": [
      "I don't know  the crui's call, sorry :(\n"
     ]
    }
   ],
   "source": [
    "animal = \"crui\"\n",
    "\n",
    "if animal == \"cat\":\n",
    "    print(\"meow\")\n",
    "elif animal == \"dog\":\n",
    "    print(\"woof\")\n",
    "elif animal == \"cow\":\n",
    "    print(\"moo\")\n",
    "else:\n",
    "    print(f\"I don't know  the {animal}'s call, sorry :(\")"
   ]
  },
  {
   "cell_type": "markdown",
   "metadata": {},
   "source": [
    "**Exercise 9.** Let's try to implement a calculator using **if**, **else** and **elif**. The head of the calculator is already written as the following. You can input a, b and option when running the code. Now please finish the calculation."
   ]
  },
  {
   "cell_type": "code",
   "execution_count": 19,
   "metadata": {},
   "outputs": [
    {
     "name": "stdout",
     "output_type": "stream",
     "text": [
      "Welcome to CALCULATOR!\n",
      "Choose one of the following operations:\n",
      "1 - addition\n",
      "2 - subtraction\n",
      "3 - multiplication\n",
      "4 - division\n",
      "Your number must be selected between 1 and 4\n",
      "28.0  *  18.0  is equal to :\n",
      "The result is  504.0\n"
     ]
    }
   ],
   "source": [
    "from pydoc import doc\n",
    "from cmath import inf\n",
    "\n",
    "\n",
    "print(\"Welcome to CALCULATOR!\")\n",
    "\n",
    "a = float(input(\"Enter the first number: \"))\n",
    "b = float(input(\"Enter the second number: \"))\n",
    "\n",
    "print(\"Choose one of the following operations:\")\n",
    "print(\"1 - addition\")\n",
    "print(\"2 - subtraction\")\n",
    "print(\"3 - multiplication\")\n",
    "print(\"4 - division\")\n",
    "option = inf\n",
    "while option>4:\n",
    "    print((\"Your number must be selected between 1 and 4\"))\n",
    "    option = int(input(\"\"))\n",
    "\n",
    "result = 0  \n",
    "\n",
    "if option==1:\n",
    "    result = a+ b\n",
    "    print(a, \" + \", b ,\" is equal to :\")\n",
    "elif option==2:\n",
    "    result = a-b\n",
    "    print(a, \" - \", b ,\" is equal to :\")\n",
    "elif option==3:\n",
    "    result=a*b\n",
    "    print(a, \" * \", b ,\" is equal to :\")\n",
    "else:\n",
    "    result = a/b\n",
    "    print(a, \"/\", b ,\" is equal to :\")\n",
    "\n",
    "\n",
    "# Change the value of result according the previous calculation\n",
    "print(\"The result is \", result)"
   ]
  },
  {
   "cell_type": "markdown",
   "metadata": {},
   "source": [
    "### Break and continue\n",
    "\n",
    "The **break** statement in Python terminates the current loop and resumes execution at the next statement, just like the traditional *break* found in C. On the other hand, the **continue** statement skips all the remaining code in the current iteration of the loop and moves the control back to the top of the loop."
   ]
  },
  {
   "cell_type": "markdown",
   "metadata": {},
   "source": [
    "**Exercise 10.** Try to use for loop and continue to remove all the \"h\"s in the string \"hello, haha, python\"."
   ]
  },
  {
   "cell_type": "code",
   "execution_count": 29,
   "metadata": {},
   "outputs": [
    {
     "name": "stdout",
     "output_type": "stream",
     "text": [
      "We want to remove all h in a precise word\n",
      "hhhhhhhhhhhhhhhhhhhhhhh\n",
      "\n"
     ]
    }
   ],
   "source": [
    "# Your code here\n",
    "print(\"We want to remove all h in a precise word\")\n",
    "word = input(\"Enter a word\")\n",
    "print(word)\n",
    "\n",
    "for i in range(0,len(word)):\n",
    "    if(i<1):\n",
    "        new_word= word.replace('h', '', 1)\n",
    "    new_word = new_word.replace('h', '', 1)\n",
    "print(new_word)"
   ]
  },
  {
   "cell_type": "markdown",
   "metadata": {},
   "source": [
    "**Exercise 11.** Try to use for loop and break to only keep the letters before \"p\" in the string \"hello, haha, python\"."
   ]
  },
  {
   "cell_type": "code",
   "execution_count": 30,
   "metadata": {},
   "outputs": [
    {
     "name": "stdout",
     "output_type": "stream",
     "text": [
      "We want to remove all h in a precise word\n",
      "ohpp\n",
      "pp\n"
     ]
    }
   ],
   "source": [
    "# Your code here\n",
    "print(\"We want to only keep p in a precise word\")\n",
    "word = input(\"Enter a word\")\n",
    "print(word)\n",
    "for el in word:\n",
    "    if 'p'!= el:\n",
    "        word=word.replace(el, '', 1)\n",
    "\n",
    "print(word)"
   ]
  },
  {
   "cell_type": "code",
   "execution_count": null,
   "metadata": {},
   "outputs": [],
   "source": []
  }
 ],
 "metadata": {
  "kernelspec": {
   "display_name": "Python 3.10.7 64-bit",
   "language": "python",
   "name": "python3"
  },
  "language_info": {
   "codemirror_mode": {
    "name": "ipython",
    "version": 3
   },
   "file_extension": ".py",
   "mimetype": "text/x-python",
   "name": "python",
   "nbconvert_exporter": "python",
   "pygments_lexer": "ipython3",
   "version": "3.10.7"
  },
  "vscode": {
   "interpreter": {
    "hash": "26de051ba29f2982a8de78e945f0abaf191376122a1563185a90213a26c5da77"
   }
  }
 },
 "nbformat": 4,
 "nbformat_minor": 2
}
